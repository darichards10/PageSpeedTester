{
 "cells": [
  {
   "cell_type": "code",
   "execution_count": 19,
   "metadata": {},
   "outputs": [
    {
     "name": "stderr",
     "output_type": "stream",
     "text": [
      "C:\\Users\\drew1\\AppData\\Local\\Temp\\ipykernel_12956\\3226681784.py:18: DeprecationWarning: headless property is deprecated, instead use add_argument('--headless') or add_argument('--headless=new')\n",
      "  chrome_options.headless = True\n"
     ]
    },
    {
     "name": "stdout",
     "output_type": "stream",
     "text": [
      "Data saved successfully!\n"
     ]
    }
   ],
   "source": [
    "import csv\n",
    "from selenium import webdriver\n",
    "from selenium.webdriver.chrome.options import Options\n",
    "from selenium.webdriver.support.ui import WebDriverWait\n",
    "from selenium.webdriver.support import expected_conditions as EC\n",
    "from selenium.webdriver.common.by import By\n",
    "\n",
    "csv_file = 'path/to/file'  # Replace with your CSV file name\n",
    "urls = []\n",
    "\n",
    "with open(csv_file, 'r') as file:\n",
    "    reader = csv.reader(file)\n",
    "    for row in reader:\n",
    "        if row[0] not in urls and not row[0].endswith((\".pdf\", \".png\")):\n",
    "            urls.append(row[0])\n",
    "\n",
    "chrome_options = Options()\n",
    "chrome_options.headless = True\n",
    "driver = webdriver.Chrome(options=chrome_options)\n",
    "\n",
    "data = []\n",
    "headers = ['URL', 'Load Time', 'DOM Content Loaded Time', 'First Paint Time', 'First Contentful Paint Time', 'Largest Contentful Paint', 'Time to Interactive', 'Total Page Size']\n",
    "\n",
    "for url in urls:\n",
    "    try:\n",
    "        driver.get(url)\n",
    "        \n",
    "        wait = WebDriverWait(driver, 10)\n",
    "        wait.until(EC.presence_of_element_located((By.TAG_NAME, 'body')))\n",
    "        \n",
    "        load_time = driver.execute_script(\n",
    "            \"return (window.performance.timing.loadEventEnd - window.performance.timing.navigationStart) || 0\"\n",
    "        )\n",
    "        dom_content_loaded_time = driver.execute_script(\n",
    "            \"return window.performance.timing.domContentLoadedEventEnd - window.performance.timing.navigationStart\"\n",
    "        )\n",
    "        first_paint_time = driver.execute_script(\n",
    "            \"return window.performance.timing.msFirstPaint || 0\"\n",
    "        )\n",
    "        first_contentful_paint_time = driver.execute_script(\n",
    "            \"return window.performance.timing.msFirstContentfulPaint || 0\"\n",
    "        )\n",
    "        #largest_contentful_paint = driver.execute_script(\n",
    "         #   \"return (window.performance.getEntriesByType('largest-contentful-paint')[0].renderTime || 0)\"\n",
    "        #)\n",
    "        time_to_interactive = driver.execute_script(\n",
    "            \"return (window.performance.timing.domInteractive - window.performance.timing.navigationStart) || 0\"\n",
    "        )\n",
    "        total_page_size = driver.execute_script(\n",
    "            \"return window.performance.timing.transferSize || 0\"\n",
    "        )\n",
    "        \n",
    "        data.append({'URL': url, 'Load Time': load_time, 'DOM Content Loaded Time': dom_content_loaded_time, 'First Paint Time': first_paint_time, 'First Contentful Paint Time': first_contentful_paint_time, 'Largest Contentful Paint': largest_contentful_paint, 'Time to Interactive': time_to_interactive, 'Total Page Size': total_page_size})\n",
    "    except Exception as e:\n",
    "        data.append({'URL': url, 'Load Time': str(e)})\n",
    "\n",
    "driver.quit()  # Close the WebDriver after testing all URLs\n",
    "\n",
    "# Save data to CSV file\n",
    "csv_file = 'output.csv'  # Replace with your desired output file name\n",
    "\n",
    "with open(csv_file, 'w', newline='') as file:\n",
    "    writer = csv.DictWriter(file, fieldnames=headers)\n",
    "    writer.writeheader()\n",
    "    writer.writerows(data)\n",
    "\n",
    "print(\"Data saved successfully!\")\n"
   ]
  }
 ],
 "metadata": {
  "kernelspec": {
   "display_name": "Python 3",
   "language": "python",
   "name": "python3"
  },
  "language_info": {
   "codemirror_mode": {
    "name": "ipython",
    "version": 3
   },
   "file_extension": ".py",
   "mimetype": "text/x-python",
   "name": "python",
   "nbconvert_exporter": "python",
   "pygments_lexer": "ipython3",
   "version": "3.10.11"
  },
  "orig_nbformat": 4
 },
 "nbformat": 4,
 "nbformat_minor": 2
}
